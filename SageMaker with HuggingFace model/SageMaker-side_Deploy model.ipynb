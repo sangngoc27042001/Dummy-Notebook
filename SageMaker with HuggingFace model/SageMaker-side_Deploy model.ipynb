{
 "cells": [
  {
   "cell_type": "code",
   "execution_count": 35,
   "id": "58d05f21-2b93-43b2-b54e-ecd9c218e637",
   "metadata": {
    "tags": []
   },
   "outputs": [
    {
     "name": "stdout",
     "output_type": "stream",
     "text": [
      "sagemaker role arn: arn:aws:iam::334586217754:role/service-role/AmazonSageMaker-ExecutionRole-20240112T140048\n"
     ]
    }
   ],
   "source": [
    "import sagemaker\n",
    "import boto3\n",
    "\n",
    "try:\n",
    "    role = sagemaker.get_execution_role()\n",
    "except ValueError:\n",
    "    iam = boto3.client('iam')\n",
    "    role = iam.get_role(RoleName='sagemaker_execution_role')['Role']['Arn']\n",
    "\n",
    "print(f\"sagemaker role arn: {role}\")"
   ]
  },
  {
   "cell_type": "code",
   "execution_count": 36,
   "id": "a3dea18f-b458-47e3-8f2c-2d2b8b9fe8d8",
   "metadata": {
    "tags": []
   },
   "outputs": [],
   "source": [
    "from sagemaker.huggingface import HuggingFaceModel\n",
    "\n",
    "# create Hugging Face Model Class\n",
    "huggingface_model = HuggingFaceModel(\n",
    "   model_data=\"s3://sang-sagemaker-practice/my_model.tar.gz\",  # path to your trained sagemaker model\n",
    "   role=role, # iam role with permissions to create an Endpoint\n",
    "   transformers_version=\"4.26\", # transformers version used\n",
    "   pytorch_version=\"1.13\", # pytorch version used\n",
    "   py_version=\"py39\", # python version of the DLC\n",
    ")"
   ]
  },
  {
   "cell_type": "code",
   "execution_count": 37,
   "id": "1cb89939-95cc-4f65-8c85-313e15365403",
   "metadata": {
    "tags": []
   },
   "outputs": [
    {
     "name": "stdout",
     "output_type": "stream",
     "text": [
      "-----!"
     ]
    }
   ],
   "source": [
    "predictor = huggingface_model.deploy(\n",
    "   initial_instance_count=1,\n",
    "   instance_type=\"ml.m5.xlarge\"\n",
    ")"
   ]
  },
  {
   "cell_type": "code",
   "execution_count": 38,
   "id": "1d1de5af",
   "metadata": {
    "tags": []
   },
   "outputs": [],
   "source": [
    "# def func(stream, content_type):\n",
    "#     return stream\n",
    "predictor.serializer= sagemaker.base_serializers.JSONSerializer()\n",
    "predictor.deserializer = sagemaker.base_deserializers.JSONDeserializer()"
   ]
  },
  {
   "cell_type": "code",
   "execution_count": 39,
   "id": "5b5cd39c-f09b-421b-87bb-27e27c0d68b5",
   "metadata": {
    "tags": []
   },
   "outputs": [],
   "source": [
    "data = {\n",
    "    \"my_input\": \"\"\"\n",
    "James Lovelock, Whose Gaia Theory Saw the Earth as Alive, Dies at 103\n",
    "A British ecologist, he captured imaginations with his hypothesis and was essential to today’s understanding of man-made pollutants and their effect on the climate.\n",
    "\n",
    "Share full article\n",
    "\n",
    "\n",
    "99\n",
    "\n",
    "James Lovelock in 1962. Among his inventions was the Electron Capture Detector, an inexpensive, portable, exquisitely sensitive device used to measure the spread of toxic man-made compounds in the environment.Credit...Donald Uhrbrock/Getty Images\n",
    "\n",
    "By Keith Schneider\n",
    "Published July 27, 2022\n",
    "Updated Aug. 11, 2022\n",
    "James Lovelock, the maverick British ecologist whose work was essential to today’s understanding of man-made pollutants and their effect on climate and who captured the scientific world’s imagination with his Gaia theory, portraying the Earth as a living creature, died on Tuesday, his 103rd birthday, at his home in Dorset, in southwest England.\n",
    "\n",
    "His family confirmed the death in a statement on Twitter, saying that until six months ago he “was still able to walk along the coast near his home in Dorset and take part in interviews, but his health deteriorated after a bad fall earlier this year.”\n",
    "\n",
    "Dr. Lovelock’s breadth of knowledge extended from astronomy to zoology. In his later years he became an eminent proponent of nuclear power as a means to help solve global climate change and a pessimist about humankind’s capacity to survive a rapidly warming planet.\n",
    "\n",
    "But his global renown rested on three main contributions that he developed during a particularly abundant decade of scientific exploration and curiosity stretching from the late 1950s through the last half of the ’60s.\n",
    "\n",
    "One was his invention of the Electron Capture Detector, an inexpensive, portable, exquisitely sensitive device used to help measure the spread of toxic man-made compounds in the environment. The device provided the scientific foundations of Rachel Carson’s 1962 book, “Silent Spring,” a catalyst of the environmental movement.\n",
    "\n",
    "The detector also helped provide the basis for regulations in the United States and in other nations that banned harmful chemicals like DDT and PCBs and that sharply reduced the use of hundreds of other compounds as well as the public’s exposure to them.\n",
    "\n",
    "Later, his finding that chlorofluorocarbons — the compounds that powered aerosol cans and were used to cool refrigerators and air-conditioners — were present in measurable concentrations in the atmosphere led to the discovery of the hole in the ozone layer. (Chlorofluorocarbons are now banned in most countries under a 1987 international agreement.)\n",
    "\n",
    "But Dr. Lovelock may be most widely known for his Gaia theory — that Earth functioned, as he put it, as a “living organism” that is able to “regulate its temperature and chemistry at a comfortable steady state.”\n",
    "\n",
    "The seeds of the idea were planted in 1965, when he was a member of the space exploration team recruited by the National Aeronautics and Space Administration and stationed at NASA’s Jet Propulsion Laboratory in Pasadena, Calif.\n",
    "\n",
    "Editors’ Picks\n",
    "\n",
    "Breathing Their Way to an Altered State\n",
    "\n",
    "Unstoppable in Red\n",
    "\n",
    "The Tech That Needs Fixing in 2024, and What Got Fixed Last Year\n",
    "As an expert on the chemical composition of the atmospheres of Earth and Mars, Dr. Lovelock wondered why Earth’s atmosphere was so stable. He theorized that something must be regulating heat, oxygen, nitrogen and other components.\n",
    "\n",
    "Climate Forward  There’s an ongoing crisis — and tons of news. Our newsletter keeps you up to date. Get it with a Times subscription.\n",
    "“Life at the surface must be doing the regulation,” he later wrote.\n",
    "\n",
    "He presented the theory in 1967 at a meeting of the American Astronautical Society in Lansing, Mich., and in 1968 at a scientific gathering at Princeton University.\n",
    "\"\"\"\n",
    "}\n"
   ]
  },
  {
   "cell_type": "code",
   "execution_count": 31,
   "id": "a87c8e41",
   "metadata": {},
   "outputs": [
    {
     "data": {
      "text/plain": [
       "{'my_input': '\\nJames Lovelock, Whose Gaia Theory Saw the Earth as Alive, Dies at 103\\nA British ecologist, he captured imaginations with his hypothesis and was essential to today’s understanding of man-made pollutants and their effect on the climate.\\n\\nShare full article\\n\\n\\n99\\n\\nJames Lovelock in 1962. Among his inventions was the Electron Capture Detector, an inexpensive, portable, exquisitely sensitive device used to measure the spread of toxic man-made compounds in the environment.Credit...Donald Uhrbrock/Getty Images\\n\\nBy Keith Schneider\\nPublished July 27, 2022\\nUpdated Aug. 11, 2022\\nJames Lovelock, the maverick British ecologist whose work was essential to today’s understanding of man-made pollutants and their effect on climate and who captured the scientific world’s imagination with his Gaia theory, portraying the Earth as a living creature, died on Tuesday, his 103rd birthday, at his home in Dorset, in southwest England.\\n\\nHis family confirmed the death in a statement on Twitter, saying that until six months ago he “was still able to walk along the coast near his home in Dorset and take part in interviews, but his health deteriorated after a bad fall earlier this year.”\\n\\nDr. Lovelock’s breadth of knowledge extended from astronomy to zoology. In his later years he became an eminent proponent of nuclear power as a means to help solve global climate change and a pessimist about humankind’s capacity to survive a rapidly warming planet.\\n\\nBut his global renown rested on three main contributions that he developed during a particularly abundant decade of scientific exploration and curiosity stretching from the late 1950s through the last half of the ’60s.\\n\\nOne was his invention of the Electron Capture Detector, an inexpensive, portable, exquisitely sensitive device used to help measure the spread of toxic man-made compounds in the environment. The device provided the scientific foundations of Rachel Carson’s 1962 book, “Silent Spring,” a catalyst of the environmental movement.\\n\\nThe detector also helped provide the basis for regulations in the United States and in other nations that banned harmful chemicals like DDT and PCBs and that sharply reduced the use of hundreds of other compounds as well as the public’s exposure to them.\\n\\nLater, his finding that chlorofluorocarbons — the compounds that powered aerosol cans and were used to cool refrigerators and air-conditioners — were present in measurable concentrations in the atmosphere led to the discovery of the hole in the ozone layer. (Chlorofluorocarbons are now banned in most countries under a 1987 international agreement.)\\n\\nBut Dr. Lovelock may be most widely known for his Gaia theory — that Earth functioned, as he put it, as a “living organism” that is able to “regulate its temperature and chemistry at a comfortable steady state.”\\n\\nThe seeds of the idea were planted in 1965, when he was a member of the space exploration team recruited by the National Aeronautics and Space Administration and stationed at NASA’s Jet Propulsion Laboratory in Pasadena, Calif.\\n\\nEditors’ Picks\\n\\nBreathing Their Way to an Altered State\\n\\nUnstoppable in Red\\n\\nThe Tech That Needs Fixing in 2024, and What Got Fixed Last Year\\nAs an expert on the chemical composition of the atmospheres of Earth and Mars, Dr. Lovelock wondered why Earth’s atmosphere was so stable. He theorized that something must be regulating heat, oxygen, nitrogen and other components.\\n\\nClimate Forward  There’s an ongoing crisis — and tons of news. Our newsletter keeps you up to date. Get it with a Times subscription.\\n“Life at the surface must be doing the regulation,” he later wrote.\\n\\nHe presented the theory in 1967 at a meeting of the American Astronautical Society in Lansing, Mich., and in 1968 at a scientific gathering at Princeton University.\\n'}"
      ]
     },
     "execution_count": 31,
     "metadata": {},
     "output_type": "execute_result"
    }
   ],
   "source": [
    "import json\n",
    "t = predictor.serializer.serialize(data)\n",
    "json.loads(t)"
   ]
  },
  {
   "cell_type": "code",
   "execution_count": 40,
   "id": "80708448",
   "metadata": {},
   "outputs": [
    {
     "data": {
      "text/plain": [
       "{'output': '</s><s>James Lovelock, Whose Gaia Theory Saw the Earth as Alive, Dies at 103. A British ecologist, he captured imaginations with his hypothesis and was essential to today’s understanding of man-made pollutants and their effect on the climate. Among his inventions was the Electron Capture Detector, an inexpensive, portable, exquisitely sensitive device used to measure the spread of toxic man- made compounds in the environment. His family confirmed the death in a statement on Twitter, saying that until six months ago he was still able to walk along the coast near his home in Dorset.</s>'}"
      ]
     },
     "execution_count": 40,
     "metadata": {},
     "output_type": "execute_result"
    }
   ],
   "source": [
    "# request\n",
    "predictor.predict(data)"
   ]
  },
  {
   "cell_type": "code",
   "execution_count": 41,
   "id": "8c0a072a-2889-4be6-9e12-a54e4aa01dfa",
   "metadata": {
    "tags": []
   },
   "outputs": [],
   "source": [
    "predictor.delete_model()\n",
    "predictor.delete_endpoint()"
   ]
  }
 ],
 "metadata": {
  "kernelspec": {
   "display_name": "conda_python3",
   "language": "python",
   "name": "conda_python3"
  },
  "language_info": {
   "codemirror_mode": {
    "name": "ipython",
    "version": 3
   },
   "file_extension": ".py",
   "mimetype": "text/x-python",
   "name": "python",
   "nbconvert_exporter": "python",
   "pygments_lexer": "ipython3",
   "version": "3.10.13"
  }
 },
 "nbformat": 4,
 "nbformat_minor": 5
}
