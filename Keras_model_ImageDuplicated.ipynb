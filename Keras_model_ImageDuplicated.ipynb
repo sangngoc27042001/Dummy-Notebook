{
  "nbformat": 4,
  "nbformat_minor": 0,
  "metadata": {
    "accelerator": "GPU",
    "colab": {
      "name": "MODEL_DUPLICATED_IMAGE - Copy.ipynb",
      "provenance": [],
      "collapsed_sections": []
    },
    "kernelspec": {
      "display_name": "Python 3",
      "language": "python",
      "name": "python3"
    },
    "language_info": {
      "codemirror_mode": {
        "name": "ipython",
        "version": 3
      },
      "file_extension": ".py",
      "mimetype": "text/x-python",
      "name": "python",
      "nbconvert_exporter": "python",
      "pygments_lexer": "ipython3",
      "version": "3.8.5"
    }
  },
  "cells": [
    {
      "cell_type": "code",
      "metadata": {
        "colab": {
          "base_uri": "https://localhost:8080/"
        },
        "id": "uS-7XfaQthjI",
        "outputId": "225a1553-221a-42fe-c5f8-14095ce5a50b"
      },
      "source": [
        "from google.colab import drive\n",
        "drive.mount('/content/drive')"
      ],
      "execution_count": null,
      "outputs": [
        {
          "output_type": "stream",
          "text": [
            "Drive already mounted at /content/drive; to attempt to forcibly remount, call drive.mount(\"/content/drive\", force_remount=True).\n"
          ],
          "name": "stdout"
        }
      ]
    },
    {
      "cell_type": "code",
      "metadata": {
        "id": "Yw6QiZzmtbnE"
      },
      "source": [
        "from keras.models import *\n",
        "from keras.layers import *\n",
        "from keras.optimizers import *\n",
        "from keras.callbacks import ModelCheckpoint, LearningRateScheduler\n",
        "from keras import backend as keras\n",
        "import tensorflow as tf\n",
        "from matplotlib import pyplot as plt\n",
        "from tensorflow.keras import regularizers\n",
        "import tensorflow_hub as hub"
      ],
      "execution_count": null,
      "outputs": []
    },
    {
      "cell_type": "code",
      "metadata": {
        "id": "iko5AYXBhxnS"
      },
      "source": [
        "way_in_model =  tf.keras.Sequential([\n",
        "    hub.KerasLayer(\"https://hub.tensorflow.google.cn/tensorflow/efficientnet/b0/feature-vector/1\",\n",
        "                   trainable=False)\n",
        "])\n",
        "way_in_model.build([None, 224, 224, 3]) "
      ],
      "execution_count": null,
      "outputs": []
    },
    {
      "cell_type": "code",
      "metadata": {
        "id": "06zMtpsYtbnN"
      },
      "source": [
        "def my_model(input_size = (448,224,3)):\n",
        "    inputs = Input(shape=input_size)\n",
        "    #Divide into 2 ways\n",
        "    a=inputs[:,0:224,:,:]\n",
        "    b=inputs[:,224:448,:,:]\n",
        "    \n",
        "    #way1\n",
        "    w1=way_in_model(a)\n",
        "    w1=Dropout(0.5)(w1)\n",
        "    w1=Flatten(trainable=False)(w1)\n",
        "    \n",
        "    #way2\n",
        "    w2=way_in_model(b)\n",
        "    w2=Dropout(0.5)(w2)\n",
        "    w2=Flatten(trainable=False)(w2)\n",
        "    \n",
        "    #mearge\n",
        "    m=concatenate([w1,w2], axis = 1)\n",
        "    print(m.shape)\n",
        "    m=Dense(256, activation='relu',trainable=True)(m)\n",
        "    m=Dense(2, activation='softmax',trainable=True,kernel_regularizer=regularizers.l2(0.01))(m)\n",
        "    \n",
        "    print(a.shape,w1.shape,m.shape)\n",
        "    model = Model(inputs,m)\n",
        "    model.compile(optimizer='adam',\n",
        "              loss='sparse_categorical_crossentropy',\n",
        "              metrics=['accuracy'])\n",
        "    return model"
      ],
      "execution_count": null,
      "outputs": []
    },
    {
      "cell_type": "code",
      "metadata": {
        "colab": {
          "base_uri": "https://localhost:8080/"
        },
        "id": "rmA1Rn9CtbnN",
        "outputId": "0990ed1e-b08b-42e0-c86e-6b2f2f4532cc"
      },
      "source": [
        "a=my_model()"
      ],
      "execution_count": null,
      "outputs": [
        {
          "output_type": "stream",
          "text": [
            "(None, 2560)\n",
            "(None, 224, 224, 3) (None, 1280) (None, 2)\n"
          ],
          "name": "stdout"
        }
      ]
    },
    {
      "cell_type": "code",
      "metadata": {
        "colab": {
          "base_uri": "https://localhost:8080/"
        },
        "id": "ohXQhWlutbnN",
        "outputId": "d531e41d-49b2-41c8-9c57-581dfd6f4f30"
      },
      "source": [
        "a.summary()"
      ],
      "execution_count": null,
      "outputs": [
        {
          "output_type": "stream",
          "text": [
            "Model: \"model_1\"\n",
            "__________________________________________________________________________________________________\n",
            "Layer (type)                    Output Shape         Param #     Connected to                     \n",
            "==================================================================================================\n",
            "input_2 (InputLayer)            [(None, 448, 224, 3) 0                                            \n",
            "__________________________________________________________________________________________________\n",
            "tf.__operators__.getitem (Slici (None, 224, 224, 3)  0           input_2[0][0]                    \n",
            "__________________________________________________________________________________________________\n",
            "tf.__operators__.getitem_1 (Sli (None, 224, 224, 3)  0           input_2[0][0]                    \n",
            "__________________________________________________________________________________________________\n",
            "sequential (Sequential)         (None, 1280)         2257984     tf.__operators__.getitem[0][0]   \n",
            "                                                                 tf.__operators__.getitem_1[0][0] \n",
            "__________________________________________________________________________________________________\n",
            "dropout (Dropout)               (None, 1280)         0           sequential[0][0]                 \n",
            "__________________________________________________________________________________________________\n",
            "dropout_1 (Dropout)             (None, 1280)         0           sequential[1][0]                 \n",
            "__________________________________________________________________________________________________\n",
            "flatten (Flatten)               (None, 1280)         0           dropout[0][0]                    \n",
            "__________________________________________________________________________________________________\n",
            "flatten_1 (Flatten)             (None, 1280)         0           dropout_1[0][0]                  \n",
            "__________________________________________________________________________________________________\n",
            "concatenate (Concatenate)       (None, 2560)         0           flatten[0][0]                    \n",
            "                                                                 flatten_1[0][0]                  \n",
            "__________________________________________________________________________________________________\n",
            "dense (Dense)                   (None, 256)          655616      concatenate[0][0]                \n",
            "__________________________________________________________________________________________________\n",
            "dense_1 (Dense)                 (None, 2)            514         dense[0][0]                      \n",
            "==================================================================================================\n",
            "Total params: 2,914,114\n",
            "Trainable params: 656,130\n",
            "Non-trainable params: 2,257,984\n",
            "__________________________________________________________________________________________________\n"
          ],
          "name": "stdout"
        }
      ]
    },
    {
      "cell_type": "code",
      "metadata": {
        "colab": {
          "base_uri": "https://localhost:8080/"
        },
        "id": "P_XK9Za4aRwP",
        "outputId": "4212733c-64bf-4c50-abb0-86e24f05f439"
      },
      "source": [
        "X.shape"
      ],
      "execution_count": null,
      "outputs": [
        {
          "output_type": "execute_result",
          "data": {
            "text/plain": [
              "(4500, 448, 224, 3)"
            ]
          },
          "metadata": {
            "tags": []
          },
          "execution_count": 12
        }
      ]
    },
    {
      "cell_type": "code",
      "metadata": {
        "id": "_FT_pv4atbnO",
        "colab": {
          "base_uri": "https://localhost:8080/"
        },
        "outputId": "95e9bd69-e43b-4ddf-94d8-f3dbbb14edfb"
      },
      "source": [
        "history = a.fit(X, y, epochs=20,batch_size=32,validation_split=0.2, verbose=1)"
      ],
      "execution_count": null,
      "outputs": [
        {
          "output_type": "stream",
          "text": [
            "Epoch 1/20\n",
            "113/113 [==============================] - 53s 144ms/step - loss: 0.9756 - accuracy: 0.4984 - val_loss: 0.7213 - val_accuracy: 0.4933\n",
            "Epoch 2/20\n",
            "113/113 [==============================] - 11s 98ms/step - loss: 0.6966 - accuracy: 0.5884 - val_loss: 0.6481 - val_accuracy: 0.6578\n",
            "Epoch 3/20\n",
            "113/113 [==============================] - 11s 98ms/step - loss: 0.6010 - accuracy: 0.6970 - val_loss: 0.5349 - val_accuracy: 0.7733\n",
            "Epoch 4/20\n",
            "113/113 [==============================] - 11s 98ms/step - loss: 0.4997 - accuracy: 0.7666 - val_loss: 0.4786 - val_accuracy: 0.7878\n",
            "Epoch 5/20\n",
            "113/113 [==============================] - 11s 98ms/step - loss: 0.4282 - accuracy: 0.8129 - val_loss: 0.4911 - val_accuracy: 0.7856\n",
            "Epoch 6/20\n",
            "113/113 [==============================] - 11s 99ms/step - loss: 0.3706 - accuracy: 0.8444 - val_loss: 0.4721 - val_accuracy: 0.7911\n",
            "Epoch 7/20\n",
            "113/113 [==============================] - 11s 98ms/step - loss: 0.3246 - accuracy: 0.8619 - val_loss: 0.4074 - val_accuracy: 0.8211\n",
            "Epoch 8/20\n",
            "113/113 [==============================] - 11s 99ms/step - loss: 0.2935 - accuracy: 0.8813 - val_loss: 0.4168 - val_accuracy: 0.8200\n",
            "Epoch 9/20\n",
            "113/113 [==============================] - 11s 100ms/step - loss: 0.2506 - accuracy: 0.9044 - val_loss: 0.4217 - val_accuracy: 0.8300\n",
            "Epoch 10/20\n",
            "113/113 [==============================] - 11s 99ms/step - loss: 0.2475 - accuracy: 0.9026 - val_loss: 0.3822 - val_accuracy: 0.8456\n",
            "Epoch 11/20\n",
            "113/113 [==============================] - 11s 100ms/step - loss: 0.2306 - accuracy: 0.9121 - val_loss: 0.3940 - val_accuracy: 0.8233\n",
            "Epoch 12/20\n",
            "113/113 [==============================] - 11s 100ms/step - loss: 0.2000 - accuracy: 0.9252 - val_loss: 0.3743 - val_accuracy: 0.8444\n",
            "Epoch 13/20\n",
            "113/113 [==============================] - 11s 101ms/step - loss: 0.1803 - accuracy: 0.9319 - val_loss: 0.3758 - val_accuracy: 0.8489\n",
            "Epoch 14/20\n",
            "113/113 [==============================] - 11s 101ms/step - loss: 0.1776 - accuracy: 0.9362 - val_loss: 0.4282 - val_accuracy: 0.8244\n",
            "Epoch 15/20\n",
            "113/113 [==============================] - 11s 101ms/step - loss: 0.1495 - accuracy: 0.9477 - val_loss: 0.3830 - val_accuracy: 0.8456\n",
            "Epoch 16/20\n",
            "113/113 [==============================] - 11s 100ms/step - loss: 0.1512 - accuracy: 0.9475 - val_loss: 0.3809 - val_accuracy: 0.8500\n",
            "Epoch 17/20\n",
            "113/113 [==============================] - 11s 100ms/step - loss: 0.1481 - accuracy: 0.9574 - val_loss: 0.3672 - val_accuracy: 0.8489\n",
            "Epoch 18/20\n",
            "113/113 [==============================] - 11s 100ms/step - loss: 0.1272 - accuracy: 0.9644 - val_loss: 0.4123 - val_accuracy: 0.8444\n",
            "Epoch 19/20\n",
            "113/113 [==============================] - 11s 100ms/step - loss: 0.1134 - accuracy: 0.9648 - val_loss: 0.4911 - val_accuracy: 0.8344\n",
            "Epoch 20/20\n",
            "113/113 [==============================] - 11s 101ms/step - loss: 0.1152 - accuracy: 0.9636 - val_loss: 0.4179 - val_accuracy: 0.8511\n"
          ],
          "name": "stdout"
        }
      ]
    },
    {
      "cell_type": "code",
      "metadata": {
        "id": "jMmr0xDbMSrl"
      },
      "source": [
        "a.save(\"/content/drive/MyDrive/DUP_IMAGE/main_model.h5\")"
      ],
      "execution_count": null,
      "outputs": []
    },
    {
      "cell_type": "code",
      "metadata": {
        "id": "UFP0zzi21R8q",
        "colab": {
          "base_uri": "https://localhost:8080/",
          "height": 295
        },
        "outputId": "ada9b1cf-7dd0-4b1e-95e5-a6bc5f4c18ae"
      },
      "source": [
        "time.sleep(5)\n",
        "plt.plot(history.history['accuracy'])\n",
        "plt.plot(history.history['val_accuracy'])\n",
        "plt.title('model accuracy')\n",
        "plt.ylabel('accuracy')\n",
        "plt.xlabel('epoch')\n",
        "plt.legend(['train', 'val'], loc='upper left')\n",
        "plt.show()"
      ],
      "execution_count": null,
      "outputs": [
        {
          "output_type": "display_data",
          "data": {
            "image/png": "[encoded data removed]",
            "text/plain": [
              "<Figure size 432x288 with 1 Axes>"
            ]
          },
          "metadata": {
            "tags": [],
            "needs_background": "light"
          }
        }
      ]
    },
    {
      "cell_type": "code",
      "metadata": {
        "id": "P4_fJH9F1Wsw",
        "colab": {
          "base_uri": "https://localhost:8080/",
          "height": 295
        },
        "outputId": "b7a0ff04-a20c-4849-9a5e-b7d589190d37"
      },
      "source": [
        "plt.plot(history.history['loss'])\n",
        "plt.plot(history.history['val_loss'])\n",
        "plt.title('model loss')\n",
        "plt.ylabel('loss')\n",
        "plt.xlabel('epoch')\n",
        "plt.legend(['train', 'val'], loc='upper left')\n",
        "plt.show()"
      ],
      "execution_count": null,
      "outputs": [
        {
          "output_type": "display_data",
          "data": {
            "image/png": "[encoded data removed]",
            "text/plain": [
              "<Figure size 432x288 with 1 Axes>"
            ]
          },
          "metadata": {
            "tags": [],
            "needs_background": "light"
          }
        }
      ]
    },
    {
      "cell_type": "code",
      "metadata": {
        "id": "Jt1mkphEtbnP"
      },
      "source": [
        "a.evaluate(X_test,y_test)"
      ],
      "execution_count": null,
      "outputs": []
    },
    {
      "cell_type": "code",
      "metadata": {
        "id": "f7CmE9_8tbnP"
      },
      "source": [
        ""
      ],
      "execution_count": null,
      "outputs": []
    }
  ]
}