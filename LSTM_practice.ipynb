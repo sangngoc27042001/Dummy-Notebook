{
  "nbformat": 4,
  "nbformat_minor": 0,
  "metadata": {
    "colab": {
      "name": "LSTM practice.ipynb",
      "provenance": []
    },
    "kernelspec": {
      "name": "python3",
      "display_name": "Python 3"
    },
    "language_info": {
      "name": "python"
    },
    "accelerator": "GPU"
  },
  "cells": [
    {
      "cell_type": "code",
      "metadata": {
        "id": "Eme7ELnl9qEi"
      },
      "source": [
        "import pandas_datareader as web\n",
        "import numpy as np\n",
        "import pandas as pd\n",
        "from keras.models import Sequential\n",
        "from keras.layers import*\n",
        "import matplotlib.pyplot as plt"
      ],
      "execution_count": 1,
      "outputs": []
    },
    {
      "cell_type": "code",
      "metadata": {
        "colab": {
          "base_uri": "https://localhost:8080/"
        },
        "id": "Ep2mXgkkdrnt",
        "outputId": "9d0953b0-cae8-482d-de4f-cce27d7bb76c"
      },
      "source": [
        "!pip install wget"
      ],
      "execution_count": 82,
      "outputs": [
        {
          "output_type": "stream",
          "name": "stdout",
          "text": [
            "Collecting wget\n",
            "  Downloading wget-3.2.zip (10 kB)\n",
            "Building wheels for collected packages: wget\n",
            "  Building wheel for wget (setup.py) ... \u001b[?25l\u001b[?25hdone\n",
            "  Created wheel for wget: filename=wget-3.2-py3-none-any.whl size=9672 sha256=a2cfa7652a9db96ab118406b1c053d1eff248d8e3e59fb49c5de591a14f6f49e\n",
            "  Stored in directory: /root/.cache/pip/wheels/a1/b6/7c/0e63e34eb06634181c63adacca38b79ff8f35c37e3c13e3c02\n",
            "Successfully built wget\n",
            "Installing collected packages: wget\n",
            "Successfully installed wget-3.2\n"
          ]
        }
      ]
    },
    {
      "cell_type": "markdown",
      "metadata": {
        "id": "p3GnpABtcNxW"
      },
      "source": [
        "# Practice"
      ]
    },
    {
      "cell_type": "code",
      "metadata": {
        "id": "MhRbCKWx_Ecb"
      },
      "source": [
        "import wget\n",
        "site_url = 'https://raw.githubusercontent.com/sangngoc27042001/Dummy-Notebook/main/data-csv/MANU_stock_price.csv'\n",
        "file_name = wget.download(site_url)\n",
        "df=pd.read_csv(file_name)"
      ],
      "execution_count": 231,
      "outputs": []
    },
    {
      "cell_type": "code",
      "metadata": {
        "colab": {
          "base_uri": "https://localhost:8080/",
          "height": 203
        },
        "id": "ghFLJlMzDKmh",
        "outputId": "e589e0bd-eb99-408b-8843-7227fc1d4ffd"
      },
      "source": [
        "df.head()"
      ],
      "execution_count": 232,
      "outputs": [
        {
          "output_type": "execute_result",
          "data": {
            "text/html": [
              "<div>\n",
              "<style scoped>\n",
              "    .dataframe tbody tr th:only-of-type {\n",
              "        vertical-align: middle;\n",
              "    }\n",
              "\n",
              "    .dataframe tbody tr th {\n",
              "        vertical-align: top;\n",
              "    }\n",
              "\n",
              "    .dataframe thead th {\n",
              "        text-align: right;\n",
              "    }\n",
              "</style>\n",
              "<table border=\"1\" class=\"dataframe\">\n",
              "  <thead>\n",
              "    <tr style=\"text-align: right;\">\n",
              "      <th></th>\n",
              "      <th>Date</th>\n",
              "      <th>Open</th>\n",
              "      <th>High</th>\n",
              "      <th>Low</th>\n",
              "      <th>Close</th>\n",
              "      <th>Adj Close</th>\n",
              "      <th>Volume</th>\n",
              "    </tr>\n",
              "  </thead>\n",
              "  <tbody>\n",
              "    <tr>\n",
              "      <th>0</th>\n",
              "      <td>2012-08-10</td>\n",
              "      <td>14.05</td>\n",
              "      <td>14.20</td>\n",
              "      <td>14.00</td>\n",
              "      <td>14.00</td>\n",
              "      <td>13.148401</td>\n",
              "      <td>31846200</td>\n",
              "    </tr>\n",
              "    <tr>\n",
              "      <th>1</th>\n",
              "      <td>2012-08-13</td>\n",
              "      <td>13.97</td>\n",
              "      <td>15.27</td>\n",
              "      <td>13.96</td>\n",
              "      <td>14.15</td>\n",
              "      <td>13.289278</td>\n",
              "      <td>2061800</td>\n",
              "    </tr>\n",
              "    <tr>\n",
              "      <th>2</th>\n",
              "      <td>2012-08-14</td>\n",
              "      <td>14.20</td>\n",
              "      <td>14.48</td>\n",
              "      <td>14.15</td>\n",
              "      <td>14.20</td>\n",
              "      <td>13.336237</td>\n",
              "      <td>204800</td>\n",
              "    </tr>\n",
              "    <tr>\n",
              "      <th>3</th>\n",
              "      <td>2012-08-15</td>\n",
              "      <td>14.42</td>\n",
              "      <td>14.88</td>\n",
              "      <td>14.03</td>\n",
              "      <td>14.05</td>\n",
              "      <td>13.195360</td>\n",
              "      <td>563500</td>\n",
              "    </tr>\n",
              "    <tr>\n",
              "      <th>4</th>\n",
              "      <td>2012-08-16</td>\n",
              "      <td>14.07</td>\n",
              "      <td>14.08</td>\n",
              "      <td>13.29</td>\n",
              "      <td>13.77</td>\n",
              "      <td>12.932392</td>\n",
              "      <td>1605600</td>\n",
              "    </tr>\n",
              "  </tbody>\n",
              "</table>\n",
              "</div>"
            ],
            "text/plain": [
              "         Date   Open   High    Low  Close  Adj Close    Volume\n",
              "0  2012-08-10  14.05  14.20  14.00  14.00  13.148401  31846200\n",
              "1  2012-08-13  13.97  15.27  13.96  14.15  13.289278   2061800\n",
              "2  2012-08-14  14.20  14.48  14.15  14.20  13.336237    204800\n",
              "3  2012-08-15  14.42  14.88  14.03  14.05  13.195360    563500\n",
              "4  2012-08-16  14.07  14.08  13.29  13.77  12.932392   1605600"
            ]
          },
          "metadata": {},
          "execution_count": 232
        }
      ]
    },
    {
      "cell_type": "code",
      "metadata": {
        "colab": {
          "base_uri": "https://localhost:8080/",
          "height": 521
        },
        "id": "_2PHdtBaDb60",
        "outputId": "aa9f6fbb-3d78-4348-8768-8fb493d5db28"
      },
      "source": [
        "plt.figure(figsize=(16,8))\n",
        "plt.title('Close price history')\n",
        "plt.plot(df['Close'].values[len(df)-60:])\n",
        "plt.xlabel('Date',fontsize=18)\n",
        "plt.ylabel('Close Price ($)',fontsize=18)\n",
        "plt.show()"
      ],
      "execution_count": 233,
      "outputs": [
        {
          "output_type": "display_data",
          "data": {
            "image/png": "[encoded data removed]",
            "text/plain": [
              "<Figure size 1152x576 with 1 Axes>"
            ]
          },
          "metadata": {
            "needs_background": "light"
          }
        }
      ]
    },
    {
      "cell_type": "code",
      "metadata": {
        "id": "pYoZ0af-E_ck"
      },
      "source": [
        "from sklearn.preprocessing import MinMaxScaler\n",
        "scaler = MinMaxScaler()\n",
        "data=df.filter(['Close']).values\n",
        "data=scaler.fit_transform(data)"
      ],
      "execution_count": 234,
      "outputs": []
    },
    {
      "cell_type": "code",
      "metadata": {
        "id": "Qv5KZJXLGAc_"
      },
      "source": [
        "X=[]\n",
        "y=[]\n",
        "for i in range(60,len(data)):\n",
        "  X.append(data[i-60:i,:])\n",
        "  y.append(data[i][0])"
      ],
      "execution_count": 235,
      "outputs": []
    },
    {
      "cell_type": "code",
      "metadata": {
        "id": "oXc6_eAxHEyp"
      },
      "source": [
        "X=np.array(X)\n",
        "y=np.array(y)"
      ],
      "execution_count": 236,
      "outputs": []
    },
    {
      "cell_type": "code",
      "metadata": {
        "id": "DK3q_2oYIFah"
      },
      "source": [
        "model=Sequential()\n",
        "model.add(LSTM(128,return_sequences=True,input_shape=(60,1)))\n",
        "model.add(LSTM(64,return_sequences=True))\n",
        "model.add(LSTM(32,return_sequences=False))\n",
        "model.add(Dense(32,activation='relu'))\n",
        "model.add(Dense(1))"
      ],
      "execution_count": 237,
      "outputs": []
    },
    {
      "cell_type": "code",
      "metadata": {
        "id": "lkbMtxXDIziy"
      },
      "source": [
        "model.compile(\n",
        "    optimizer='adam',\n",
        "    loss='mse'\n",
        ")"
      ],
      "execution_count": 238,
      "outputs": []
    },
    {
      "cell_type": "code",
      "metadata": {
        "colab": {
          "base_uri": "https://localhost:8080/"
        },
        "id": "7M85qIWQJAVC",
        "outputId": "bb2abd4f-cc4f-41e7-989f-48c0511edd31"
      },
      "source": [
        "model.fit(X,y,batch_size=16, epochs=20)"
      ],
      "execution_count": 239,
      "outputs": [
        {
          "output_type": "stream",
          "name": "stdout",
          "text": [
            "Epoch 1/20\n",
            "142/142 [==============================] - 10s 43ms/step - loss: 0.0103\n",
            "Epoch 2/20\n",
            "142/142 [==============================] - 6s 43ms/step - loss: 0.0030\n",
            "Epoch 3/20\n",
            "142/142 [==============================] - 6s 43ms/step - loss: 0.0024\n",
            "Epoch 4/20\n",
            "142/142 [==============================] - 6s 43ms/step - loss: 0.0019\n",
            "Epoch 5/20\n",
            "142/142 [==============================] - 6s 43ms/step - loss: 0.0015\n",
            "Epoch 6/20\n",
            "142/142 [==============================] - 6s 43ms/step - loss: 0.0013\n",
            "Epoch 7/20\n",
            "142/142 [==============================] - 6s 43ms/step - loss: 0.0012\n",
            "Epoch 8/20\n",
            "142/142 [==============================] - 6s 43ms/step - loss: 0.0011\n",
            "Epoch 9/20\n",
            "142/142 [==============================] - 6s 43ms/step - loss: 8.8106e-04\n",
            "Epoch 10/20\n",
            "142/142 [==============================] - 6s 43ms/step - loss: 8.6660e-04\n",
            "Epoch 11/20\n",
            "142/142 [==============================] - 6s 43ms/step - loss: 7.7127e-04\n",
            "Epoch 12/20\n",
            "142/142 [==============================] - 6s 43ms/step - loss: 6.5872e-04\n",
            "Epoch 13/20\n",
            "142/142 [==============================] - 6s 43ms/step - loss: 6.9145e-04\n",
            "Epoch 14/20\n",
            "142/142 [==============================] - 6s 43ms/step - loss: 7.5913e-04\n",
            "Epoch 15/20\n",
            "142/142 [==============================] - 6s 43ms/step - loss: 6.5015e-04\n",
            "Epoch 16/20\n",
            "142/142 [==============================] - 6s 43ms/step - loss: 6.1836e-04\n",
            "Epoch 17/20\n",
            "142/142 [==============================] - 6s 43ms/step - loss: 6.8525e-04\n",
            "Epoch 18/20\n",
            "142/142 [==============================] - 6s 43ms/step - loss: 6.6138e-04\n",
            "Epoch 19/20\n",
            "142/142 [==============================] - 6s 43ms/step - loss: 6.8609e-04\n",
            "Epoch 20/20\n",
            "142/142 [==============================] - 6s 43ms/step - loss: 6.6576e-04\n"
          ]
        },
        {
          "output_type": "execute_result",
          "data": {
            "text/plain": [
              "<keras.callbacks.History at 0x7f8b0f0011d0>"
            ]
          },
          "metadata": {},
          "execution_count": 239
        }
      ]
    },
    {
      "cell_type": "code",
      "metadata": {
        "colab": {
          "base_uri": "https://localhost:8080/",
          "height": 483
        },
        "id": "nd_vU5yGOZnq",
        "outputId": "13320d1a-4016-4e77-df79-a8ea167bc8ea"
      },
      "source": [
        "y_test=y[len(y)-60:]\n",
        "y_predict=model.predict(X[len(y)-60:])\n",
        "\n",
        "y_test=scaler.inverse_transform(y_test.reshape(-1, 1))\n",
        "y_predict=scaler.inverse_transform(y_predict.reshape(-1,1))\n",
        "\n",
        "plt.figure(figsize=(16,8))\n",
        "plt.plot(y_test, color='blue', label='Real')\n",
        "plt.plot(y_predict, color='red', label='Predict')\n",
        "plt.legend()\n",
        "plt.show()"
      ],
      "execution_count": 241,
      "outputs": [
        {
          "output_type": "display_data",
          "data": {
            "image/png": "[encoded data removed]",
            "text/plain": [
              "<Figure size 1152x576 with 1 Axes>"
            ]
          },
          "metadata": {
            "needs_background": "light"
          }
        }
      ]
    },
    {
      "cell_type": "markdown",
      "metadata": {
        "id": "egnc_Pl5cW-P"
      },
      "source": [
        "# Dealing with real data"
      ]
    },
    {
      "cell_type": "code",
      "metadata": {
        "id": "UF3t-n2dcWY3"
      },
      "source": [
        "import wget\n",
        "site_url = 'https://raw.githubusercontent.com/sangngoc27042001/Dummy-Notebook/main/data-csv/HiPower_NL_2018-08_2018-12.csv'\n",
        "file_name = wget.download(site_url)"
      ],
      "execution_count": 122,
      "outputs": []
    },
    {
      "cell_type": "code",
      "metadata": {
        "colab": {
          "base_uri": "https://localhost:8080/",
          "height": 212
        },
        "id": "TSUrGCA7eHMN",
        "outputId": "7e5491b0-5562-4653-c882-54585108806b"
      },
      "source": [
        "df=pd.read_csv(file_name)\n",
        "df.head(3)"
      ],
      "execution_count": 129,
      "outputs": [
        {
          "output_type": "execute_result",
          "data": {
            "text/html": [
              "<div>\n",
              "<style scoped>\n",
              "    .dataframe tbody tr th:only-of-type {\n",
              "        vertical-align: middle;\n",
              "    }\n",
              "\n",
              "    .dataframe tbody tr th {\n",
              "        vertical-align: top;\n",
              "    }\n",
              "\n",
              "    .dataframe thead th {\n",
              "        text-align: right;\n",
              "    }\n",
              "</style>\n",
              "<table border=\"1\" class=\"dataframe\">\n",
              "  <thead>\n",
              "    <tr style=\"text-align: right;\">\n",
              "      <th></th>\n",
              "      <th>Timestamp</th>\n",
              "      <th>Temp</th>\n",
              "      <th>Rh</th>\n",
              "      <th>Co2</th>\n",
              "      <th>HumidityDeficity</th>\n",
              "      <th>VentLee</th>\n",
              "      <th>VentWind</th>\n",
              "      <th>LowerCircuit</th>\n",
              "      <th>GrowthCircuit</th>\n",
              "      <th>AssimilationLighting</th>\n",
              "      <th>EnergyCurtain</th>\n",
              "      <th>BlackOutCurtain</th>\n",
              "      <th>ClimateEnergyDemand</th>\n",
              "      <th>Co2ActuationRegulation</th>\n",
              "      <th>WaterSupply</th>\n",
              "      <th>Drain</th>\n",
              "      <th>DrainEc</th>\n",
              "      <th>DrainPh</th>\n",
              "      <th>HeatingTempViP</th>\n",
              "      <th>VentilationTempLeeSideViP</th>\n",
              "      <th>VentilationTempWindSideViP</th>\n",
              "      <th>LeeSideWindowPositionMin</th>\n",
              "      <th>NetPipeMin</th>\n",
              "      <th>CropPipeMin</th>\n",
              "      <th>EnergiedoekViPDoekstand</th>\n",
              "      <th>VerduisteringsdoekViPDoekstand</th>\n",
              "      <th>LightingViPOn</th>\n",
              "      <th>Co2ViP</th>\n",
              "      <th>HumidityDeficitViP</th>\n",
              "      <th>WaterSupplyIntervalTimeViP</th>\n",
              "      <th>IrrigationSupplyTimeViP</th>\n",
              "      <th>WriteToiSii</th>\n",
              "      <th>SpAllowFruits</th>\n",
              "      <th>SpAllowLeaves</th>\n",
              "      <th>SpHeatingTemp</th>\n",
              "      <th>SpVentTemp</th>\n",
              "      <th>SpLeeMinVent</th>\n",
              "      <th>SpNetPipeMinVent</th>\n",
              "      <th>SpCropPipeMinVent</th>\n",
              "      <th>SpEnergyScreen</th>\n",
              "      <th>SpBlackoutScreen</th>\n",
              "      <th>SpLightingOn</th>\n",
              "      <th>SpCo2</th>\n",
              "      <th>SpHumidityDeficit</th>\n",
              "      <th>SpIrrigationInterval</th>\n",
              "      <th>SpIrrigationSupply</th>\n",
              "      <th>ParCumulative</th>\n",
              "      <th>Par</th>\n",
              "      <th>CostLighting</th>\n",
              "      <th>CostCo2</th>\n",
              "      <th>ItemType</th>\n",
              "      <th>OutsideTemp</th>\n",
              "      <th>OutsideRh</th>\n",
              "      <th>Radiation</th>\n",
              "      <th>RadiationSum</th>\n",
              "      <th>WindSpeed</th>\n",
              "      <th>WindDirection</th>\n",
              "      <th>Rain</th>\n",
              "      <th>ParOut</th>\n",
              "      <th>HeatEmission</th>\n",
              "      <th>AbsoluteHumidity</th>\n",
              "      <th>Irrigation</th>\n",
              "      <th>LampHours</th>\n",
              "      <th>Co2Hours</th>\n",
              "    </tr>\n",
              "  </thead>\n",
              "  <tbody>\n",
              "    <tr>\n",
              "      <th>0</th>\n",
              "      <td>8/26/2018 0:25</td>\n",
              "      <td>18.8</td>\n",
              "      <td>81.7</td>\n",
              "      <td>725.0</td>\n",
              "      <td>2.96</td>\n",
              "      <td>0.0</td>\n",
              "      <td>0.0</td>\n",
              "      <td>35.9</td>\n",
              "      <td>0.0</td>\n",
              "      <td>0.0</td>\n",
              "      <td>95.0</td>\n",
              "      <td>0.0</td>\n",
              "      <td>51.9</td>\n",
              "      <td>0.0</td>\n",
              "      <td>54.0</td>\n",
              "      <td>1.9</td>\n",
              "      <td>4.48</td>\n",
              "      <td>6.31</td>\n",
              "      <td>19.0</td>\n",
              "      <td>20.0</td>\n",
              "      <td>24.0</td>\n",
              "      <td>0.0</td>\n",
              "      <td>0.0</td>\n",
              "      <td>0.0</td>\n",
              "      <td>0.0</td>\n",
              "      <td>0.0</td>\n",
              "      <td>0.0</td>\n",
              "      <td>400.0</td>\n",
              "      <td>2.2</td>\n",
              "      <td>20.0</td>\n",
              "      <td>180.0</td>\n",
              "      <td>NaN</td>\n",
              "      <td>NaN</td>\n",
              "      <td>NaN</td>\n",
              "      <td>NaN</td>\n",
              "      <td>NaN</td>\n",
              "      <td>NaN</td>\n",
              "      <td>NaN</td>\n",
              "      <td>NaN</td>\n",
              "      <td>NaN</td>\n",
              "      <td>NaN</td>\n",
              "      <td>NaN</td>\n",
              "      <td>NaN</td>\n",
              "      <td>NaN</td>\n",
              "      <td>NaN</td>\n",
              "      <td>NaN</td>\n",
              "      <td>NaN</td>\n",
              "      <td>NaN</td>\n",
              "      <td>NaN</td>\n",
              "      <td>NaN</td>\n",
              "      <td>4</td>\n",
              "      <td>11.4</td>\n",
              "      <td>88.0</td>\n",
              "      <td>0.0</td>\n",
              "      <td>0.0</td>\n",
              "      <td>0.0</td>\n",
              "      <td>16.0</td>\n",
              "      <td>False</td>\n",
              "      <td>0.0</td>\n",
              "      <td>-30.0</td>\n",
              "      <td>NaN</td>\n",
              "      <td>3.096</td>\n",
              "      <td>0.0</td>\n",
              "      <td>0.0</td>\n",
              "    </tr>\n",
              "    <tr>\n",
              "      <th>1</th>\n",
              "      <td>8/26/2018 0:30</td>\n",
              "      <td>18.8</td>\n",
              "      <td>82.0</td>\n",
              "      <td>710.0</td>\n",
              "      <td>2.89</td>\n",
              "      <td>0.0</td>\n",
              "      <td>0.0</td>\n",
              "      <td>36.8</td>\n",
              "      <td>0.0</td>\n",
              "      <td>0.0</td>\n",
              "      <td>95.0</td>\n",
              "      <td>0.0</td>\n",
              "      <td>38.9</td>\n",
              "      <td>0.0</td>\n",
              "      <td>54.0</td>\n",
              "      <td>1.9</td>\n",
              "      <td>4.48</td>\n",
              "      <td>6.32</td>\n",
              "      <td>19.0</td>\n",
              "      <td>20.0</td>\n",
              "      <td>24.0</td>\n",
              "      <td>0.0</td>\n",
              "      <td>0.0</td>\n",
              "      <td>0.0</td>\n",
              "      <td>0.0</td>\n",
              "      <td>0.0</td>\n",
              "      <td>0.0</td>\n",
              "      <td>400.0</td>\n",
              "      <td>2.2</td>\n",
              "      <td>20.0</td>\n",
              "      <td>180.0</td>\n",
              "      <td>NaN</td>\n",
              "      <td>NaN</td>\n",
              "      <td>NaN</td>\n",
              "      <td>NaN</td>\n",
              "      <td>NaN</td>\n",
              "      <td>NaN</td>\n",
              "      <td>NaN</td>\n",
              "      <td>NaN</td>\n",
              "      <td>NaN</td>\n",
              "      <td>NaN</td>\n",
              "      <td>NaN</td>\n",
              "      <td>NaN</td>\n",
              "      <td>NaN</td>\n",
              "      <td>NaN</td>\n",
              "      <td>NaN</td>\n",
              "      <td>NaN</td>\n",
              "      <td>NaN</td>\n",
              "      <td>NaN</td>\n",
              "      <td>NaN</td>\n",
              "      <td>4</td>\n",
              "      <td>11.4</td>\n",
              "      <td>87.7</td>\n",
              "      <td>0.0</td>\n",
              "      <td>0.0</td>\n",
              "      <td>0.0</td>\n",
              "      <td>16.0</td>\n",
              "      <td>False</td>\n",
              "      <td>1.0</td>\n",
              "      <td>-30.0</td>\n",
              "      <td>NaN</td>\n",
              "      <td>3.096</td>\n",
              "      <td>0.0</td>\n",
              "      <td>0.0</td>\n",
              "    </tr>\n",
              "    <tr>\n",
              "      <th>2</th>\n",
              "      <td>8/26/2018 0:35</td>\n",
              "      <td>18.9</td>\n",
              "      <td>81.8</td>\n",
              "      <td>713.0</td>\n",
              "      <td>2.92</td>\n",
              "      <td>0.0</td>\n",
              "      <td>0.0</td>\n",
              "      <td>37.2</td>\n",
              "      <td>0.0</td>\n",
              "      <td>0.0</td>\n",
              "      <td>95.0</td>\n",
              "      <td>0.0</td>\n",
              "      <td>38.9</td>\n",
              "      <td>0.0</td>\n",
              "      <td>54.0</td>\n",
              "      <td>1.9</td>\n",
              "      <td>4.50</td>\n",
              "      <td>6.31</td>\n",
              "      <td>19.0</td>\n",
              "      <td>20.0</td>\n",
              "      <td>24.0</td>\n",
              "      <td>0.0</td>\n",
              "      <td>0.0</td>\n",
              "      <td>0.0</td>\n",
              "      <td>0.0</td>\n",
              "      <td>0.0</td>\n",
              "      <td>0.0</td>\n",
              "      <td>400.0</td>\n",
              "      <td>2.2</td>\n",
              "      <td>20.0</td>\n",
              "      <td>180.0</td>\n",
              "      <td>NaN</td>\n",
              "      <td>NaN</td>\n",
              "      <td>NaN</td>\n",
              "      <td>NaN</td>\n",
              "      <td>NaN</td>\n",
              "      <td>NaN</td>\n",
              "      <td>NaN</td>\n",
              "      <td>NaN</td>\n",
              "      <td>NaN</td>\n",
              "      <td>NaN</td>\n",
              "      <td>NaN</td>\n",
              "      <td>NaN</td>\n",
              "      <td>NaN</td>\n",
              "      <td>NaN</td>\n",
              "      <td>NaN</td>\n",
              "      <td>NaN</td>\n",
              "      <td>NaN</td>\n",
              "      <td>NaN</td>\n",
              "      <td>NaN</td>\n",
              "      <td>4</td>\n",
              "      <td>11.5</td>\n",
              "      <td>86.6</td>\n",
              "      <td>0.0</td>\n",
              "      <td>0.0</td>\n",
              "      <td>0.5</td>\n",
              "      <td>16.0</td>\n",
              "      <td>False</td>\n",
              "      <td>0.0</td>\n",
              "      <td>-31.0</td>\n",
              "      <td>NaN</td>\n",
              "      <td>3.096</td>\n",
              "      <td>0.0</td>\n",
              "      <td>0.0</td>\n",
              "    </tr>\n",
              "  </tbody>\n",
              "</table>\n",
              "</div>"
            ],
            "text/plain": [
              "        Timestamp  Temp    Rh  ...  Irrigation  LampHours  Co2Hours\n",
              "0  8/26/2018 0:25  18.8  81.7  ...       3.096        0.0       0.0\n",
              "1  8/26/2018 0:30  18.8  82.0  ...       3.096        0.0       0.0\n",
              "2  8/26/2018 0:35  18.9  81.8  ...       3.096        0.0       0.0\n",
              "\n",
              "[3 rows x 64 columns]"
            ]
          },
          "metadata": {},
          "execution_count": 129
        }
      ]
    },
    {
      "cell_type": "code",
      "metadata": {
        "id": "OiIHAOrueLio"
      },
      "source": [
        "drop_fields=[]\n",
        "for field in df.isnull().sum().index:\n",
        "  if df.isnull().sum()[field]>1000:\n",
        "    print((field,df.isnull().sum()[field]))\n",
        "    drop_fields.append(field)"
      ],
      "execution_count": 186,
      "outputs": []
    },
    {
      "cell_type": "code",
      "metadata": {
        "id": "bmc6XLyNfBjC"
      },
      "source": [
        "df=df.drop(drop_fields,axis=1)"
      ],
      "execution_count": 187,
      "outputs": []
    },
    {
      "cell_type": "code",
      "metadata": {
        "id": "PTxw0BzquDL0"
      },
      "source": [
        "df.dropna()"
      ],
      "execution_count": null,
      "outputs": []
    },
    {
      "cell_type": "code",
      "metadata": {
        "id": "Vr_WZYituWCy"
      },
      "source": [
        "X=df.drop(['Timestamp'],axis=1).values\n",
        "y=df['Co2'].values.reshape(-1,1)"
      ],
      "execution_count": 203,
      "outputs": []
    },
    {
      "cell_type": "code",
      "metadata": {
        "id": "vOnUSCfNuGQA"
      },
      "source": [
        "from sklearn.preprocessing import MinMaxScaler\n",
        "X_scaler = MinMaxScaler()\n",
        "y_scaler = MinMaxScaler()\n",
        "X=X_scaler.fit_transform(X)\n",
        "y=y_scaler.fit_transform(y)"
      ],
      "execution_count": 204,
      "outputs": []
    },
    {
      "cell_type": "code",
      "metadata": {
        "colab": {
          "base_uri": "https://localhost:8080/"
        },
        "id": "1_hFs7hPu-uX",
        "outputId": "c13aabb5-4bf4-43e8-fdf3-f691854ee705"
      },
      "source": [
        "X.shape"
      ],
      "execution_count": 205,
      "outputs": [
        {
          "output_type": "execute_result",
          "data": {
            "text/plain": [
              "(6428, 58)"
            ]
          },
          "metadata": {},
          "execution_count": 205
        }
      ]
    },
    {
      "cell_type": "code",
      "metadata": {
        "id": "bOMdCZIll3qX"
      },
      "source": [
        "X_2=[]\n",
        "y_2=[]\n",
        "for i in range(100,len(df)):\n",
        "  X_2.append(X[i-100:i])\n",
        "  y_2.append(y[i])"
      ],
      "execution_count": 209,
      "outputs": []
    },
    {
      "cell_type": "code",
      "metadata": {
        "id": "3rf52Eh2nkgH"
      },
      "source": [
        "X_2=np.array(X_2)\n",
        "y_2=np.array(y_2).reshape(-1,1)"
      ],
      "execution_count": 213,
      "outputs": []
    },
    {
      "cell_type": "code",
      "metadata": {
        "colab": {
          "base_uri": "https://localhost:8080/"
        },
        "id": "KW2VMX9pvWzC",
        "outputId": "bc34a999-002d-4408-8dd5-0844d8abd4bd"
      },
      "source": [
        "X_2.shape,y_2.shape"
      ],
      "execution_count": 214,
      "outputs": [
        {
          "output_type": "execute_result",
          "data": {
            "text/plain": [
              "((6328, 100, 58), (6328, 1))"
            ]
          },
          "metadata": {},
          "execution_count": 214
        }
      ]
    },
    {
      "cell_type": "code",
      "metadata": {
        "id": "vQKqI-Kpp11L"
      },
      "source": [
        "X_2=X_2.astype('float32')\n",
        "y_2=y_2.astype('float32')"
      ],
      "execution_count": 215,
      "outputs": []
    },
    {
      "cell_type": "code",
      "metadata": {
        "id": "8e2BUcwgn6PJ"
      },
      "source": [
        "model=Sequential()\n",
        "model.add(LSTM(256,return_sequences=True,input_shape=(100,58)))\n",
        "model.add(LSTM(128,return_sequences=True))\n",
        "model.add(LSTM(64,return_sequences=False))\n",
        "model.add(Dense(32,activation='relu'))\n",
        "model.add(Dense(1))"
      ],
      "execution_count": 216,
      "outputs": []
    },
    {
      "cell_type": "code",
      "metadata": {
        "id": "8XjeWLa8ooSf"
      },
      "source": [
        "model.compile(\n",
        "    optimizer='adam',\n",
        "    loss='mse'\n",
        ")"
      ],
      "execution_count": 217,
      "outputs": []
    },
    {
      "cell_type": "code",
      "metadata": {
        "colab": {
          "base_uri": "https://localhost:8080/"
        },
        "id": "MQhY50tIoo3p",
        "outputId": "cdb36a60-6b63-43d1-83fb-6c01562207ce"
      },
      "source": [
        "model.fit(X_2,y_2,batch_size=16, epochs=20)"
      ],
      "execution_count": 218,
      "outputs": [
        {
          "output_type": "stream",
          "name": "stdout",
          "text": [
            "Epoch 1/20\n",
            "396/396 [==============================] - 40s 88ms/step - loss: 0.0115\n",
            "Epoch 2/20\n",
            "396/396 [==============================] - 35s 88ms/step - loss: 0.0048\n",
            "Epoch 3/20\n",
            "396/396 [==============================] - 35s 88ms/step - loss: 0.0036\n",
            "Epoch 4/20\n",
            "396/396 [==============================] - 35s 88ms/step - loss: 0.0030\n",
            "Epoch 5/20\n",
            "396/396 [==============================] - 35s 88ms/step - loss: 0.0029\n",
            "Epoch 6/20\n",
            "396/396 [==============================] - 35s 88ms/step - loss: 0.0025\n",
            "Epoch 7/20\n",
            "396/396 [==============================] - 35s 88ms/step - loss: 0.0027\n",
            "Epoch 8/20\n",
            "396/396 [==============================] - 35s 88ms/step - loss: 0.0025\n",
            "Epoch 9/20\n",
            "396/396 [==============================] - 35s 88ms/step - loss: 0.0025\n",
            "Epoch 10/20\n",
            "396/396 [==============================] - 35s 88ms/step - loss: 0.0024\n",
            "Epoch 11/20\n",
            "396/396 [==============================] - 35s 89ms/step - loss: 0.0024\n",
            "Epoch 12/20\n",
            "396/396 [==============================] - 35s 88ms/step - loss: 0.0023\n",
            "Epoch 13/20\n",
            "396/396 [==============================] - 35s 88ms/step - loss: 0.0024\n",
            "Epoch 14/20\n",
            "396/396 [==============================] - 35s 88ms/step - loss: 0.0023\n",
            "Epoch 15/20\n",
            "396/396 [==============================] - 35s 88ms/step - loss: 0.0023\n",
            "Epoch 16/20\n",
            "396/396 [==============================] - 35s 88ms/step - loss: 0.0023\n",
            "Epoch 17/20\n",
            "396/396 [==============================] - 35s 88ms/step - loss: 0.0023\n",
            "Epoch 18/20\n",
            "396/396 [==============================] - 35s 88ms/step - loss: 0.0023\n",
            "Epoch 19/20\n",
            "396/396 [==============================] - 35s 88ms/step - loss: 0.0021\n",
            "Epoch 20/20\n",
            "396/396 [==============================] - 35s 88ms/step - loss: 0.0022\n"
          ]
        },
        {
          "output_type": "execute_result",
          "data": {
            "text/plain": [
              "<keras.callbacks.History at 0x7f8ac218e410>"
            ]
          },
          "metadata": {},
          "execution_count": 218
        }
      ]
    },
    {
      "cell_type": "code",
      "metadata": {
        "colab": {
          "base_uri": "https://localhost:8080/",
          "height": 513
        },
        "id": "UlOcZRqotrFo",
        "outputId": "6eb289a3-fa1a-4fec-8fd9-f4cdb71d0a51"
      },
      "source": [
        "y_test=y_2[len(y_2)-200:]\n",
        "y_predict=model.predict(X_2[len(X_2)-200:])\n",
        "\n",
        "y_test=y_scaler.inverse_transform(y_test)\n",
        "y_predict=y_scaler.inverse_transform(y_predict)\n",
        "\n",
        "plt.figure(figsize=(16,8))\n",
        "plt.title(\"fit vãi lồn\")\n",
        "plt.plot(y_test, color='blue', label='Real')\n",
        "plt.plot(y_predict, color='red', label='Predict')\n",
        "plt.xlabel('Time')\n",
        "plt.ylabel('CO2')\n",
        "plt.legend()\n",
        "plt.show()"
      ],
      "execution_count": 223,
      "outputs": [
        {
          "output_type": "display_data",
          "data": {
            "image/png": "[encoded data removed]",
            "text/plain": [
              "<Figure size 1152x576 with 1 Axes>"
            ]
          },
          "metadata": {
            "needs_background": "light"
          }
        }
      ]
    }
  ]
}